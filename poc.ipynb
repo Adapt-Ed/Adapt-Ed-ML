{
 "cells": [
  {
   "cell_type": "code",
   "execution_count": 1,
   "metadata": {},
   "outputs": [
    {
     "name": "stdout",
     "output_type": "stream",
     "text": [
      "/Users/kirtanmataliya/Documents/projects/Adaptive-Learning/app/config/config.ini\n"
     ]
    }
   ],
   "source": [
    "from typing import List, Dict\n",
    "from pydantic import BaseModel, Field\n",
    "from langchain_openai import ChatOpenAI\n",
    "from langchain_core.prompts import PromptTemplate\n",
    "from langchain_core.output_parsers import JsonOutputParser\n",
    "\n",
    "from app.utils.config import settings"
   ]
  },
  {
   "cell_type": "code",
   "execution_count": 2,
   "metadata": {},
   "outputs": [],
   "source": [
    "class QuizOutput(BaseModel):\n",
    "    quiz: List[Dict] = Field(description=\"List of dictionaries containing 5 keys, 'questions', 'options', 'correct option', 'sub_topic' and 'difficulty_level'.\")"
   ]
  },
  {
   "cell_type": "code",
   "execution_count": 3,
   "metadata": {},
   "outputs": [],
   "source": [
    "parser = JsonOutputParser(pydantic_object=QuizOutput)"
   ]
  },
  {
   "cell_type": "code",
   "execution_count": 4,
   "metadata": {},
   "outputs": [],
   "source": [
    "PROMPT = \"\"\"You are a quiz generator. Your job is to create {no_questions} quiz question based on the provided topic, subtopics, and the user's proficiency level.\n",
    "\n",
    "Inputs:\n",
    "- Topic: {topic} (The main theme of the quiz)\n",
    "- SubTopics: {subtopics} (Relevant subtopics)\n",
    "\n",
    "Instructions:\n",
    "1. Ensure all the generated questions are form the subtopics only.\n",
    "2. Make sure you cover all the subtopics in the quiz.\n",
    "3. Quiz should be divided into 3 levels of difficulty: Easy, Medium, and Hard.\n",
    "\n",
    "Output Format (JSON):\n",
    "{{\n",
    "  \"quiz\": [\n",
    "    {{\n",
    "      \"question\": <question_text>,\n",
    "      \"options\": [\"A. <option1>\", \"B. <option2>\", \"C. <option3>\", \"D. <option4>\"],\n",
    "      \"correct_option\": <one_of_A_B_C_or_D>,\n",
    "      \"sub_topic\": <subtopic>,\n",
    "      \"difficulty_level\": <difficulty_level>\n",
    "    }},\n",
    "    ...\n",
    "  ],\n",
    "}}\n",
    "\n",
    "- Provide only the answer in the specified format with no extra explanations.\n",
    "\"\"\""
   ]
  },
  {
   "cell_type": "code",
   "execution_count": 5,
   "metadata": {},
   "outputs": [],
   "source": [
    "llm = ChatOpenAI(\n",
    "    model=settings.OPENAI.model,\n",
    "    base_url=settings.OPENAI.base_url,\n",
    "    api_key=settings.OPENAI.api_key\n",
    ")"
   ]
  },
  {
   "cell_type": "code",
   "execution_count": 6,
   "metadata": {},
   "outputs": [],
   "source": [
    "prompt = PromptTemplate(\n",
    "    template=PROMPT,\n",
    "    input_variables=[\"no_questions\", \"topic\", \"subtopics\"],\n",
    "    partial_variables={\"format_instructions\": parser.get_format_instructions()},\n",
    ")"
   ]
  },
  {
   "cell_type": "code",
   "execution_count": 7,
   "metadata": {},
   "outputs": [],
   "source": [
    "chain = prompt | llm | parser"
   ]
  },
  {
   "cell_type": "code",
   "execution_count": 9,
   "metadata": {},
   "outputs": [],
   "source": [
    "ans = chain.invoke(\n",
    "    {\n",
    "    \"no_questions\": 20,\n",
    "    \"topic\": \"Data Structures and Algorithms\",\n",
    "    \"subtopics\": [\"Arrays\", \"Linked Lists\", \"Sorting Algorithms\"]\n",
    "    }\n",
    ")"
   ]
  },
  {
   "cell_type": "code",
   "execution_count": 10,
   "metadata": {},
   "outputs": [
    {
     "data": {
      "text/plain": [
       "{'quiz': [{'question': 'What is the primary purpose of an array in data structures?',\n",
       "   'options': ['A. To store data in a structured format',\n",
       "    'B. To manage memory efficiently',\n",
       "    'C. To implement recursion',\n",
       "    'D. To handle dynamic data'],\n",
       "   'correct_option': 'A',\n",
       "   'sub_topic': 'Arrays',\n",
       "   'difficulty_level': 'Easy'},\n",
       "  {'question': 'Which of the following is a characteristic of a singly linked list?',\n",
       "   'options': ['A. It can be traversed in both directions',\n",
       "    'B. It uses more memory than a doubly linked list',\n",
       "    'C. Each node contains only one pointer',\n",
       "    'D. It is immune to node deletion issues'],\n",
       "   'correct_option': 'C',\n",
       "   'sub_topic': 'Linked Lists',\n",
       "   'difficulty_level': 'Easy'},\n",
       "  {'question': 'Which sorting algorithm is known for its stability and efficiency?',\n",
       "   'options': ['A. Quick Sort',\n",
       "    'B. Merge Sort',\n",
       "    'C. Heap Sort',\n",
       "    'D. Selection Sort'],\n",
       "   'correct_option': 'B',\n",
       "   'sub_topic': 'Sorting Algorithms',\n",
       "   'difficulty_level': 'Medium'},\n",
       "  {'question': 'What is the average time complexity of Quick Sort?',\n",
       "   'options': ['A. O(n^2)', 'B. O(n log n)', 'C. O(n)', 'D. O(log n)'],\n",
       "   'correct_option': 'B',\n",
       "   'sub_topic': 'Sorting Algorithms',\n",
       "   'difficulty_level': 'Medium'},\n",
       "  {'question': 'What is the time complexity of accessing an element in an array by its index?',\n",
       "   'options': ['A. O(n)', 'B. O(log n)', 'C. O(1)', 'D. O(n^2)'],\n",
       "   'correct_option': 'C',\n",
       "   'sub_topic': 'Arrays',\n",
       "   'difficulty_level': 'Easy'},\n",
       "  {'question': 'Which operation is more efficient in a linked list compared to an array?',\n",
       "   'options': ['A. Accessing an element',\n",
       "    'B. Inserting an element at the beginning',\n",
       "    'C. Deleting an element',\n",
       "    'D. Searching for an element'],\n",
       "   'correct_option': 'B',\n",
       "   'sub_topic': 'Linked Lists',\n",
       "   'difficulty_level': 'Medium'},\n",
       "  {'question': 'What is the worst-case time complexity of Bubble Sort?',\n",
       "   'options': ['A. O(n log n)', 'B. O(n)', 'C. O(n^2)', 'D. O(log n)'],\n",
       "   'correct_option': 'C',\n",
       "   'sub_topic': 'Sorting Algorithms',\n",
       "   'difficulty_level': 'Medium'},\n",
       "  {'question': 'What is the name of the process where the operating system allocates space for an array?',\n",
       "   'options': ['A. Initialization',\n",
       "    'B. Declaration',\n",
       "    'C. Memory Mapping',\n",
       "    'D. Dynamic Memory Allocation'],\n",
       "   'correct_option': 'D',\n",
       "   'sub_topic': 'Arrays',\n",
       "   'difficulty_level': 'Medium'},\n",
       "  {'question': \"In a linked list, what is the purpose of the 'head' node?\",\n",
       "   'options': ['A. To store the last element',\n",
       "    'B. To store the address of the first node',\n",
       "    'C. To store the size of the list',\n",
       "    'D. To store a default value'],\n",
       "   'correct_option': 'B',\n",
       "   'sub_topic': 'Linked Lists',\n",
       "   'difficulty_level': 'Easy'},\n",
       "  {'question': 'Which sorting algorithm is known for minimizing the number of comparisons?',\n",
       "   'options': ['A. Merge Sort',\n",
       "    'B. Quick Sort',\n",
       "    'C. Heap Sort',\n",
       "    'D. Insertion Sort'],\n",
       "   'correct_option': 'B',\n",
       "   'sub_topic': 'Sorting Algorithms',\n",
       "   'difficulty_level': 'Medium'},\n",
       "  {'question': 'What is the time complexity of resizing an array?',\n",
       "   'options': ['A. O(1)', 'B. O(n)', 'C. O(n log n)', 'D. O(n^2)'],\n",
       "   'correct_option': 'B',\n",
       "   'sub_topic': 'Arrays',\n",
       "   'difficulty_level': 'Medium'},\n",
       "  {'question': 'In a doubly linked list, each node contains how many pointers?',\n",
       "   'options': ['A. 1', 'B. 2', 'C. 3', 'D. 4'],\n",
       "   'correct_option': 'B',\n",
       "   'sub_topic': 'Linked Lists',\n",
       "   'difficulty_level': 'Easy'},\n",
       "  {'question': 'Which sorting algorithm is known for its simplicity and is often used for small datasets?',\n",
       "   'options': ['A. Quick Sort',\n",
       "    'B. Merge Sort',\n",
       "    'C. Insertion Sort',\n",
       "    'D. Selection Sort'],\n",
       "   'correct_option': 'C',\n",
       "   'sub_topic': 'Sorting Algorithms',\n",
       "   'difficulty_level': 'Easy'},\n",
       "  {'question': 'What is the time complexity of finding the middle element of a singly linked list?',\n",
       "   'options': ['A. O(n)', 'B. O(log n)', 'C. O(1)', 'D. O(n^2)'],\n",
       "   'correct_option': 'A',\n",
       "   'sub_topic': 'Linked Lists',\n",
       "   'difficulty_level': 'Medium'},\n",
       "  {'question': 'Which sorting algorithm is known for its divide-and-conquer strategy?',\n",
       "   'options': ['A. Quick Sort',\n",
       "    'B. Merge Sort',\n",
       "    'C. Heap Sort',\n",
       "    'D. Insertion Sort'],\n",
       "   'correct_option': 'B',\n",
       "   'sub_topic': 'Sorting Algorithms',\n",
       "   'difficulty_level': 'Medium'},\n",
       "  {'question': \"What is the purpose of the 'next' pointer in a linked list node?\",\n",
       "   'options': ['A. To point to the previous node',\n",
       "    'B. To point to the next node',\n",
       "    'C. To point to the head node',\n",
       "    'D. To point to the tail node'],\n",
       "   'correct_option': 'B',\n",
       "   'sub_topic': 'Linked Lists',\n",
       "   'difficulty_level': 'Easy'},\n",
       "  {'question': 'What is the time complexity of the best case scenario for Quick Sort?',\n",
       "   'options': ['A. O(n^2)', 'B. O(n log n)', 'C. O(n)', 'D. O(log n)'],\n",
       "   'correct_option': 'B',\n",
       "   'sub_topic': 'Sorting Algorithms',\n",
       "   'difficulty_level': 'Medium'},\n",
       "  {'question': 'What is the name of the algorithm that sorts an array by repeatedly swapping adjacent elements?',\n",
       "   'options': ['A. Merge Sort',\n",
       "    'B. Quick Sort',\n",
       "    'C. Heap Sort',\n",
       "    'D. Bubble Sort'],\n",
       "   'correct_option': 'D',\n",
       "   'sub_topic': 'Sorting Algorithms',\n",
       "   'difficulty_level': 'Easy'},\n",
       "  {'question': 'In an array, what is the operation called when you increase the size of the array beyond its initial capacity?',\n",
       "   'options': ['A. Resizing',\n",
       "    'B. Trimming',\n",
       "    'C. Expanding',\n",
       "    'D. Initializing'],\n",
       "   'correct_option': 'A',\n",
       "   'sub_topic': 'Arrays',\n",
       "   'difficulty_level': 'Medium'},\n",
       "  {'question': 'Which data structure is most suitable for frequent insertions and deletions at arbitrary positions?',\n",
       "   'options': ['A. Array', 'B. Linked List', 'C. Stack', 'D. Queue'],\n",
       "   'correct_option': 'B',\n",
       "   'sub_topic': 'Linked Lists',\n",
       "   'difficulty_level': 'Medium'},\n",
       "  {'question': 'What is the time complexity of the worst case scenario for Selection Sort?',\n",
       "   'options': ['A. O(n log n)', 'B. O(n)', 'C. O(n^2)', 'D. O(log n)'],\n",
       "   'correct_option': 'C',\n",
       "   'sub_topic': 'Sorting Algorithms',\n",
       "   'difficulty_level': 'Medium'},\n",
       "  {'question': 'What is the purpose of using a dummy node in a linked list implementation?',\n",
       "   'options': ['A. To reduce memory usage',\n",
       "    'B. To simplify insertion and deletion operations',\n",
       "    'C. To increase the speed of traversal',\n",
       "    'D. To store the size of the list'],\n",
       "   'correct_option': 'B',\n",
       "   'sub_topic': 'Linked Lists',\n",
       "   'difficulty_level': 'Medium'}]}"
      ]
     },
     "execution_count": 10,
     "metadata": {},
     "output_type": "execute_result"
    }
   ],
   "source": [
    "ans"
   ]
  },
  {
   "cell_type": "code",
   "execution_count": null,
   "metadata": {},
   "outputs": [],
   "source": []
  }
 ],
 "metadata": {
  "kernelspec": {
   "display_name": "Adapt",
   "language": "python",
   "name": "python3"
  },
  "language_info": {
   "codemirror_mode": {
    "name": "ipython",
    "version": 3
   },
   "file_extension": ".py",
   "mimetype": "text/x-python",
   "name": "python",
   "nbconvert_exporter": "python",
   "pygments_lexer": "ipython3",
   "version": "3.12.9"
  }
 },
 "nbformat": 4,
 "nbformat_minor": 2
}
